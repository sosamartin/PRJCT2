{
 "cells": [
  {
   "cell_type": "code",
   "execution_count": null,
   "id": "1dc10003-38bc-4e68-9b17-7b7b576d8326",
   "metadata": {
    "tags": []
   },
   "outputs": [],
   "source": [
    "# Imports\n",
    "import os\n",
    "import requests\n",
    "import pandas as pd\n",
    "from dotenv import load_dotenv\n",
    "import numpy as np\n",
    "import hvplot.pandas\n",
    "from pathlib import Path\n",
    "import alpaca_trade_api as tradeapi\n",
    "from finta import TA\n",
    "from sklearn.metrics import classification_report\n",
    "from pandas.tseries.offsets import DateOffset\n",
    "import matplotlib.pyplot as plt\n",
    "from sklearn import svm\n",
    "from sklearn.preprocessing import StandardScaler\n",
    "from pandas.tseries.offsets import DateOffset\n",
    "from sklearn.metrics import classification_report"
   ]
  },
  {
   "cell_type": "code",
   "execution_count": null,
   "id": "6148999c-de13-41fe-a84f-12444a59da4c",
   "metadata": {
    "tags": []
   },
   "outputs": [],
   "source": [
    "#Load .env enviroment variables\n",
    "load_dotenv()"
   ]
  },
  {
   "cell_type": "code",
   "execution_count": null,
   "id": "2595944e-0d01-4f32-96db-898812bc31a1",
   "metadata": {
    "tags": []
   },
   "outputs": [],
   "source": [
    "# Set Alpaca API key and secret\n",
    "alpaca_api_key = os.getenv('ALPACA_API_KEY')\n",
    "alpaca_secret_key = os.getenv('ALPACA_SECRET_KEY')\n",
    "\n",
    "# Create the Alpaca API object\n",
    "alpaca = tradeapi.REST(\n",
    "    alpaca_api_key,\n",
    "    alpaca_secret_key,\n",
    "    api_version='v2')"
   ]
  },
  {
   "cell_type": "code",
   "execution_count": null,
   "id": "43f967a1-105d-425b-926d-a3eca88f2fe1",
   "metadata": {
    "tags": []
   },
   "outputs": [],
   "source": [
    "# Set the ticker\n",
    "ticker = \"SPY\"\n",
    "\n",
    "# Set timeframe to \"1Day\"\n",
    "timeframe = \"1Day\"\n",
    "\n",
    "# Set start and end datetimes of 3 years\n",
    "start_date = pd.Timestamp(\"2021-01-02\", tz=\"America/New_York\").isoformat()\n",
    "end_date = pd.Timestamp(\"2024-01-02\", tz=\"America/New_York\").isoformat()\n",
    "\n",
    "# Get 5 years worth of historical data for SPY\n",
    "ticker_data = alpaca.get_bars(\n",
    "    ticker,\n",
    "    timeframe,\n",
    "    start=start_date,\n",
    "    end=end_date\n",
    ").df\n",
    "ticker_data.head()"
   ]
  },
  {
   "cell_type": "code",
   "execution_count": null,
   "id": "1254349d-82f8-48fa-858f-64ee57897a96",
   "metadata": {
    "tags": []
   },
   "outputs": [],
   "source": [
    "# Filter the date index and close columns\n",
    "\n",
    "spy_df = ticker_data.loc[:, [\"open\", \"high\", \"low\", \"close\",\"volume\" ]]\n",
    "\n",
    "# Use the pct_change function to generate returns from close prices\n",
    "spy_df[\"Actual Returns\"] = spy_df[\"close\"].pct_change()\n",
    "\n",
    "# Drop all NaN values from the DataFrame\n",
    "spy_df = spy_df.dropna()\n",
    "\n",
    "# Review the DataFrame\n",
    "display(spy_df.head())\n",
    "display(spy_df.tail())\n"
   ]
  },
  {
   "cell_type": "code",
   "execution_count": null,
   "id": "0413c441-7092-44ce-a975-ff28717bb734",
   "metadata": {
    "tags": []
   },
   "outputs": [],
   "source": [
    "# Plot the DataFrame with hvplot\n",
    "spy_df[\"close\"].hvplot()"
   ]
  },
  {
   "cell_type": "code",
   "execution_count": null,
   "id": "c52c70c1-d3ad-4505-8d57-74df6654d838",
   "metadata": {
    "tags": []
   },
   "outputs": [],
   "source": [
    "#Recreate Trading Algo \n",
    "\n",
    "# Create a signals_df DataFrame\n",
    "\n",
    "signals_df = spy_df.copy()\n",
    "\n",
    "# Set the short window and long windows\n",
    "short_window = 20\n",
    "long_window = 50\n",
    "\n",
    "# Add the HMA technical indicators for the short and long windows\n",
    "signals_df[\"Short\"] = TA.HMA(signals_df, short_window)\n",
    "signals_df[\"Long\"] = TA.HMA(signals_df, long_window)\n",
    "\n",
    "# Review the DataFrame\n",
    "signals_df.iloc[95:105, :]"
   ]
  },
  {
   "cell_type": "code",
   "execution_count": null,
   "id": "364723f2-0324-4277-8a33-d1254eb45ba1",
   "metadata": {
    "tags": []
   },
   "outputs": [],
   "source": [
    "# Set the Signal column\n",
    "signals_df[\"Signal\"] = 0.0\n",
    "\n",
    "# Generate the trading signal 1 or 0,\n",
    "# where 1 is when the Short window is greater than (or crosses over) the Long Window\n",
    "# where 0 is when the Short window is under the Long window\n",
    "signals_df[\"Signal\"][short_window:] = np.where(\n",
    "    signals_df[\"Short\"][short_window:] > signals_df[\"Long\"][short_window:], 1.0, 0.0\n",
    ")\n",
    "\n",
    "# Calculate the points in time at which a position should be taken, 1 or -1\n",
    "signals_df[\"Entry/Exit\"] = signals_df[\"Signal\"].diff()\n",
    "\n",
    "# Review the DataFrame\n",
    "signals_df.iloc[95:105, :]"
   ]
  },
  {
   "cell_type": "code",
   "execution_count": null,
   "id": "30972586-e1a6-451b-8bfe-0d0831fd5d8c",
   "metadata": {
    "tags": []
   },
   "outputs": [],
   "source": [
    "# Visualize entry position relative to close price\n",
    "entry = signals_df[signals_df[\"Entry/Exit\"] == 1.0][\"close\"].hvplot.scatter(\n",
    "    color='purple',\n",
    "    marker='^',\n",
    "    size=200,\n",
    "    legend=False,\n",
    "    ylabel='Price in $',\n",
    "    width=1000,\n",
    "    height=400\n",
    ")\n",
    "\n",
    "# Visualize exit position relative to close price\n",
    "exit = signals_df[signals_df[\"Entry/Exit\"] == -1.0][\"close\"].hvplot.scatter(\n",
    "    color='orange',\n",
    "    marker='v',\n",
    "    size=200,\n",
    "    legend=False,\n",
    "    ylabel='Price in $',\n",
    "    width=1000,\n",
    "    height=400\n",
    ")\n",
    "\n",
    "# Visualize close price for the investment\n",
    "security_close = signals_df[[\"close\"]].hvplot(\n",
    "    line_color='lightgray',\n",
    "    ylabel='Price in $',\n",
    "    width=1000,\n",
    "    height=400\n",
    ")\n",
    "\n",
    "# Visualize moving averages\n",
    "moving_avgs = signals_df[[\"Short\", \"Long\"]].hvplot(\n",
    "    ylabel='Price in $',\n",
    "    width=1000,\n",
    "    height=400\n",
    ")\n",
    "\n",
    "# Overlay plots\n",
    "entry_exit_plot = security_close * moving_avgs * entry * exit\n",
    "entry_exit_plot"
   ]
  },
  {
   "cell_type": "code",
   "execution_count": null,
   "id": "d402c4d4-1901-49f2-9e56-9f099c057b7c",
   "metadata": {
    "tags": []
   },
   "outputs": [],
   "source": [
    "##Split the data into training and testing datasets"
   ]
  },
  {
   "cell_type": "code",
   "execution_count": null,
   "id": "b34eb23a-8514-4405-b0be-7164498a0160",
   "metadata": {
    "tags": []
   },
   "outputs": [],
   "source": [
    "# Assign a copy of the sma_fast and sma_slow columns to a features DataFrame called X\n",
    "X = signals_df[['Short', 'Long']].shift().dropna()\n",
    "\n",
    "# Review the DataFrame\n",
    "X.head()"
   ]
  },
  {
   "cell_type": "code",
   "execution_count": null,
   "id": "d07642d6-c1c0-462e-99f7-dbd5afb6fe8b",
   "metadata": {
    "tags": []
   },
   "outputs": [],
   "source": [
    "# Create the target set selecting the Signal column and assiging it to y\n",
    "y = signals_df['Signal']\n",
    "\n",
    "# Review the value counts\n",
    "y.value_counts()"
   ]
  },
  {
   "cell_type": "code",
   "execution_count": null,
   "id": "68ce6cbc-febe-412d-80e7-2fbd0de17ca8",
   "metadata": {
    "tags": []
   },
   "outputs": [],
   "source": [
    "# Select the start of the training period\n",
    "training_begin = X.index.min()\n",
    "\n",
    "# Display the training begin date\n",
    "print(training_begin)"
   ]
  },
  {
   "cell_type": "code",
   "execution_count": null,
   "id": "fdd8b684-371c-4c99-9e35-1611d603f578",
   "metadata": {
    "tags": []
   },
   "outputs": [],
   "source": [
    "# Select the ending period for the training data with an offset of 3 months\n",
    "training_end = X.index.min() + DateOffset(months=6)\n",
    "\n",
    "# Display the training end date\n",
    "print(training_end)"
   ]
  },
  {
   "cell_type": "code",
   "execution_count": null,
   "id": "4ed3054a-6474-41ab-a276-e00b76422fce",
   "metadata": {
    "tags": []
   },
   "outputs": [],
   "source": [
    "# Generate the X_train and y_train DataFrames\n",
    "X_train = X.loc[training_begin:training_end]\n",
    "y_train = y.loc[training_begin:training_end]\n",
    "\n",
    "# Review the X_train DataFrame\n",
    "X_train.head()"
   ]
  },
  {
   "cell_type": "code",
   "execution_count": null,
   "id": "9714597d-7ad5-48d8-be42-1c124b86d151",
   "metadata": {
    "tags": []
   },
   "outputs": [],
   "source": [
    "# Generate the X_test and y_test DataFrames\n",
    "X_test = X.loc[training_end+DateOffset(hours=1):]\n",
    "y_test = y.loc[training_end+DateOffset(hours=1):]\n",
    "\n",
    "# Review the X_test DataFrame\n",
    "X_train.head()"
   ]
  },
  {
   "cell_type": "code",
   "execution_count": null,
   "id": "923d1210-fd8a-43af-b576-220e26ec0f5c",
   "metadata": {
    "tags": []
   },
   "outputs": [],
   "source": [
    "# Scale the features DataFrames\n",
    "\n",
    "# Create a StandardScaler instance\n",
    "scaler = StandardScaler()\n",
    "\n",
    "# Apply the scaler model to fit the X-train data\n",
    "X_scaler = scaler.fit(X_train)\n",
    "\n",
    "# Transform the X_train and X_test DataFrames using the X_scaler\n",
    "X_train_scaled = X_scaler.transform(X_train)\n",
    "X_test_scaled = X_scaler.transform(X_test)"
   ]
  },
  {
   "cell_type": "code",
   "execution_count": null,
   "id": "aa7a8ddb-5b56-4b93-80b0-a8aa00552947",
   "metadata": {
    "tags": []
   },
   "outputs": [],
   "source": [
    "### Step 4: Use the `SVC` classifier model from SKLearn's support vector machine (SVM) learning method to \n",
    "###fit the training data and make predictions based on the testing data. Review the predictions."
   ]
  },
  {
   "cell_type": "code",
   "execution_count": null,
   "id": "b6de5dca-c631-4979-bf7d-c31255813582",
   "metadata": {
    "tags": []
   },
   "outputs": [],
   "source": [
    "# From SVM, instantiate SVC classifier model instance\n",
    "svm_model = svm.SVC()\n",
    " \n",
    "# Fit the model to the data using the training data\n",
    "svm_model = svm_model.fit(X_train_scaled, y_train)\n",
    " \n",
    "# Use the testing data to make the model predictions\n",
    "svm_pred = svm_model.predict(X_test_scaled)\n",
    "\n",
    "# Review the model's predicted values\n",
    "svm_pred"
   ]
  },
  {
   "cell_type": "code",
   "execution_count": null,
   "id": "c025258f-9fa2-43e9-8789-626918f83a00",
   "metadata": {
    "tags": []
   },
   "outputs": [],
   "source": [
    "### Step 5: Review the classification report associated with the `SVC` model predictions. "
   ]
  },
  {
   "cell_type": "code",
   "execution_count": null,
   "id": "465e689d-71fa-4552-98f4-600c4e4fbdd7",
   "metadata": {
    "tags": []
   },
   "outputs": [],
   "source": [
    "# Use a classification report to evaluate the model using the predictions and testing data\n",
    "svm_testing_report = classification_report(y_test, svm_pred)\n",
    "\n",
    "# Print the classification report\n",
    "print(svm_testing_report)\n"
   ]
  },
  {
   "cell_type": "code",
   "execution_count": null,
   "id": "8d19fc68-ed00-454c-b7fe-0a34d73e912b",
   "metadata": {
    "tags": []
   },
   "outputs": [],
   "source": [
    "### Step 6: Create a predictions DataFrame that contains columns for \n",
    "#“Predicted” values, “Actual Returns”, and “Strategy Returns”."
   ]
  },
  {
   "cell_type": "code",
   "execution_count": null,
   "id": "6ac7f025-958e-43fd-b819-944b11d65985",
   "metadata": {
    "tags": []
   },
   "outputs": [],
   "source": [
    "# Create a new empty predictions DataFrame:\n",
    "\n",
    "# Create a predictions DataFrame\n",
    "predictions_df = pd.DataFrame(index=X_test.index)\n",
    "\n",
    "# Add the SVM model predictions to the DataFrame\n",
    "predictions_df['Predicted'] = svm_pred\n",
    "\n",
    "# Add the actual returns to the DataFrame\n",
    "predictions_df['Actual Returns'] = signals_df['Actual Returns']\n",
    "\n",
    "# Add the strategy returns to the DataFrame\n",
    "predictions_df['Strategy Returns'] = (predictions_df['Actual Returns'] * predictions_df['Predicted'])\n",
    "\n",
    "# Review the DataFrame\n",
    "display(predictions_df.head())\n",
    "display(predictions_df.tail())"
   ]
  },
  {
   "cell_type": "code",
   "execution_count": null,
   "id": "5a44072e-ec1b-4e19-a1d6-bf3c8f5c8099",
   "metadata": {
    "tags": []
   },
   "outputs": [],
   "source": [
    "### Step 7: Create a cumulative return plot that shows the actual returns vs. the strategy returns. Save a PNG image of this plot. \n",
    "###This will serve as a baseline against which to compare the effects of tuning the trading algorithm."
   ]
  },
  {
   "cell_type": "code",
   "execution_count": null,
   "id": "0377d93a-bb7b-4ada-86f0-358559745b24",
   "metadata": {
    "tags": []
   },
   "outputs": [],
   "source": [
    "# Plot the actual returns versus the strategy returns\n",
    "(1 + predictions_df[['Actual Returns', 'Strategy Returns']]).cumprod().hvplot()"
   ]
  },
  {
   "cell_type": "code",
   "execution_count": null,
   "id": "ef567f38-4e1d-4466-8ac6-f941c8f1f96f",
   "metadata": {
    "tags": []
   },
   "outputs": [],
   "source": [
    "### Step 1:  Import a new classifier, such as `AdaBoost`, `DecisionTreeClassifier`, or `LogisticRegression`. (For the full list of classifiers, refer to the\n",
    "###[Supervised learning page](https://scikit-learn.org/stable/supervised_learning.html) in the scikit-learn documentation.)"
   ]
  },
  {
   "cell_type": "code",
   "execution_count": null,
   "id": "0e8eaacb-4c17-40ae-9c2f-4eb078f73155",
   "metadata": {
    "tags": []
   },
   "outputs": [],
   "source": [
    "# Import a new classifier from SKLearn\n",
    "from sklearn.calibration import CalibratedClassifierCV\n",
    "\n",
    "# Initiate the model instance\n",
    "cj_model = CalibratedClassifierCV()"
   ]
  },
  {
   "cell_type": "code",
   "execution_count": null,
   "id": "eac83bf7-c9d9-4129-b7c5-ad7bf0748df7",
   "metadata": {
    "tags": []
   },
   "outputs": [],
   "source": [
    "### Step 2: Using the original training data as the baseline model, fit another model with the new classifier."
   ]
  },
  {
   "cell_type": "code",
   "execution_count": null,
   "id": "81720b4e-c449-4daf-99c7-97d1cca3ab7c",
   "metadata": {
    "tags": []
   },
   "outputs": [],
   "source": [
    "# Fit the model using the training data\n",
    "cj_model = cj_model.fit(X_train_scaled, y_train)\n",
    "\n",
    "# Use the testing dataset to generate the predictions for the new model\n",
    "cj_pred = cj_model.predict(X_test_scaled)\n",
    "\n",
    "# Review the model's predicted values\n",
    "cj_pred\n"
   ]
  },
  {
   "cell_type": "code",
   "execution_count": null,
   "id": "0de141b2-dc5c-4846-842a-31e3056e7d0c",
   "metadata": {
    "tags": []
   },
   "outputs": [],
   "source": [
    "# Use a classification report to evaluate the model using the predictions and testing data\n",
    "cj_testing_report = classification_report(y_test, cj_pred)\n",
    "\n",
    "# Print the classification report\n",
    "print(cj_testing_report)\n"
   ]
  },
  {
   "cell_type": "code",
   "execution_count": null,
   "id": "3b9ab5dd-667d-4598-81e0-59f3c5d3d623",
   "metadata": {
    "tags": []
   },
   "outputs": [],
   "source": [
    "# Create a new empty predictions DataFrame:\n",
    "\n",
    "# Create a predictions DataFrame\n",
    "cj_pred_df = pd.DataFrame(index=X_test.index)\n",
    "\n",
    "# Add the SVM model predictions to the DataFrame\n",
    "cj_pred_df['CJ Predicted'] = cj_pred\n",
    "\n",
    "# Add the actual returns to the DataFrame\n",
    "cj_pred_df['Actual Returns'] = signals_df['Actual Returns']\n",
    "\n",
    "# Add the strategy returns to the DataFrame\n",
    "cj_pred_df['CJ Strategy Returns'] = (cj_pred_df['Actual Returns'] * cj_pred_df['CJ Predicted'])\n",
    "\n",
    "# Review the DataFrame\n",
    "display(cj_pred_df.head())\n",
    "display(cj_pred_df.tail())\n"
   ]
  },
  {
   "cell_type": "code",
   "execution_count": null,
   "id": "2fac1e34-376c-4e87-aef0-ca4e2bb5425d",
   "metadata": {
    "tags": []
   },
   "outputs": [],
   "source": [
    "# Plot the actual returns versus the strategy returns\n",
    "(1 + cj_pred_df[['Actual Returns', 'CJ Strategy Returns']]).cumprod().hvplot()"
   ]
  },
  {
   "cell_type": "code",
   "execution_count": null,
   "id": "59a149bc-697f-42fb-8b38-2936ef059d66",
   "metadata": {
    "tags": []
   },
   "outputs": [],
   "source": [
    "# Create a list for the column name\n",
    "columns = [\"Actual\"]\n",
    "\n",
    "# Create a list holding the names of the new evaluation metrics\n",
    "metrics = [\n",
    "    \"Annualized Return\",\n",
    "    \"Cumulative Returns\",\n",
    "    \"Annual Volatility\",\n",
    "    \"Sharpe Ratio\"]\n",
    "\n",
    "# Initialize the DataFrame with index set to the evaluation metrics and the column\n",
    "spy_evaluation_df = pd.DataFrame(index=metrics, columns=columns)"
   ]
  },
  {
   "cell_type": "code",
   "execution_count": null,
   "id": "55cb5567-0213-4048-a381-375493ec5f3f",
   "metadata": {
    "tags": []
   },
   "outputs": [],
   "source": [
    " # Calculate annualized return\n",
    "spy_evaluation_df.loc[\"Annualized Return\"] = (\n",
    "    cj_pred_df[\"Actual Returns\"].mean() * 252\n",
    ")\n",
    "\n",
    "# Calculate cumulative return\n",
    "spy_evaluation_df.loc[\"Cumulative Returns\"] = (1 + cj_pred_df[\"Actual Returns\"]).cumprod()[-1]\n",
    "\n",
    " # Calculate annual volatility\n",
    "spy_evaluation_df.loc[\"Annual Volatility\"] = (\n",
    "    cj_pred_df[\"Actual Returns\"].std() * np.sqrt(252)\n",
    ")\n",
    "\n",
    "# Calculate Sharpe ratio\n",
    "spy_evaluation_df.loc[\"Sharpe Ratio\"] = (\n",
    "    cj_pred_df[\"Actual Returns\"].mean() * 252) / (\n",
    "    cj_pred_df[\"Actual Returns\"].std() * np.sqrt(252)\n",
    ")\n",
    "\n",
    "# Review the result\n",
    "spy_evaluation_df"
   ]
  },
  {
   "cell_type": "code",
   "execution_count": null,
   "id": "8ff01565-bf29-4ad0-acae-8b2ea187d1b8",
   "metadata": {
    "tags": []
   },
   "outputs": [],
   "source": [
    "# Create a list for the column name\n",
    "columns = [\"Strategy\"]\n",
    "\n",
    "# Create a list holding the names of the new evaluation metrics\n",
    "metrics = [\n",
    "    \"Annualized Return\",\n",
    "    \"Cumulative Returns\",\n",
    "    \"Annual Volatility\",\n",
    "    \"Sharpe Ratio\"]\n",
    "\n",
    "# Initialize the DataFrame with index set to the evaluation metrics and the column\n",
    "strategy_evaluation_df = pd.DataFrame(index=metrics, columns=columns)"
   ]
  },
  {
   "cell_type": "code",
   "execution_count": null,
   "id": "20cf8849-93cd-40ae-bf0e-ed64bcd63f25",
   "metadata": {
    "tags": []
   },
   "outputs": [],
   "source": [
    " # Calculate annualized return\n",
    "strategy_evaluation_df.loc[\"Annualized Return\"] = (\n",
    "    cj_pred_df[\"CJ Strategy Returns\"].mean() * 252\n",
    ")\n",
    "\n",
    "# Calculate cumulative return\n",
    "strategy_evaluation_df.loc[\"Cumulative Returns\"] = (1 + cj_pred_df[\"CJ Strategy Returns\"]).cumprod()[-1]\n",
    "\n",
    " # Calculate annual volatility\n",
    "strategy_evaluation_df.loc[\"Annual Volatility\"] = (\n",
    "    cj_pred_df[\"CJ Strategy Returns\"].std() * np.sqrt(252)\n",
    ")\n",
    "\n",
    "# Calculate Sharpe ratio\n",
    "strategy_evaluation_df.loc[\"Sharpe Ratio\"] = (\n",
    "    cj_pred_df[\"CJ Strategy Returns\"].mean() * 252) / (\n",
    "    cj_pred_df[\"CJ Strategy Returns\"].std() * np.sqrt(252)\n",
    ")\n",
    "\n",
    "# Review the result\n",
    "strategy_evaluation_df"
   ]
  },
  {
   "cell_type": "code",
   "execution_count": null,
   "id": "b4323bea-2f58-4e09-ad1c-0b406cac2df8",
   "metadata": {
    "tags": []
   },
   "outputs": [],
   "source": [
    "pd.concat([spy_evaluation_df, strategy_evaluation_df], axis=1)"
   ]
  },
  {
   "cell_type": "code",
   "execution_count": null,
   "id": "e92913ec-979f-4e56-a4ab-643ef5e99b31",
   "metadata": {},
   "outputs": [],
   "source": []
  }
 ],
 "metadata": {
  "kernelspec": {
   "display_name": "Python 3 (ipykernel)",
   "language": "python",
   "name": "python3"
  },
  "language_info": {
   "codemirror_mode": {
    "name": "ipython",
    "version": 3
   },
   "file_extension": ".py",
   "mimetype": "text/x-python",
   "name": "python",
   "nbconvert_exporter": "python",
   "pygments_lexer": "ipython3",
   "version": "3.11.5"
  }
 },
 "nbformat": 4,
 "nbformat_minor": 5
}
